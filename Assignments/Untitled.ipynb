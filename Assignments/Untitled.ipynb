{
 "cells": [
  {
   "cell_type": "markdown",
   "id": "16fa272b",
   "metadata": {},
   "source": [
    "# Cohort Assignment\n",
    "\n",
    "### Write a spark program(python or scala or any other language) to achieve the following:\n",
    "\n",
    "#### 1. Calculate hourly, daily, weekly and monthly averages of aggregated counts of each customer and make this accessible for querying purposes\n",
    " \t\t\t\t\t\t\t\n",
    "#### 2. Calculate Week-on-week cohorts for customers taking rides in that week, an example cohort output is shown as follows.\n"
   ]
  },
  {
   "cell_type": "markdown",
   "id": "b5d18820",
   "metadata": {},
   "source": [
    "## We can get Dataset from the given link\n",
    "\n",
    "##### https://drive.google.com/file/d/1gGDJpGrKTFdy-IKOXxRv5QNuTlJHmp1f/view?usp=sharing"
   ]
  },
  {
   "cell_type": "code",
   "execution_count": null,
   "id": "2402bfa7",
   "metadata": {},
   "outputs": [],
   "source": [
    "#!/usr/bin/env bash\n",
    "!unzip DE_Cohorts_Assignment_Data.csv.zip\n",
    "!pwd"
   ]
  },
  {
   "cell_type": "markdown",
   "id": "6f43e9f2",
   "metadata": {},
   "source": [
    "## Import all relevant packages"
   ]
  },
  {
   "cell_type": "code",
   "execution_count": null,
   "id": "d4bafdfa",
   "metadata": {},
   "outputs": [],
   "source": [
    "from pyspark.sql import SparkSession\n",
    "from pyspark.sql.functions import explode, split, window,substring, col\n",
    "from pyspark.sql.functions import *"
   ]
  },
  {
   "cell_type": "markdown",
   "id": "a2837eff",
   "metadata": {},
   "source": [
    "## Create a Spark Session"
   ]
  },
  {
   "cell_type": "code",
   "execution_count": null,
   "id": "2ec302e3",
   "metadata": {},
   "outputs": [],
   "source": [
    "spark = SparkSession.builder.appName(\"Cohort Assignment\").master(\"local[*]\").getOrCreate()"
   ]
  },
  {
   "cell_type": "markdown",
   "id": "dc7f2db8",
   "metadata": {},
   "source": [
    "## Read data from the csv file"
   ]
  },
  {
   "cell_type": "code",
   "execution_count": 39,
   "id": "98ae30bb",
   "metadata": {},
   "outputs": [
    {
     "name": "stderr",
     "output_type": "stream",
     "text": [
      "[Stage 12:============================>                            (6 + 6) / 12]\r"
     ]
    },
    {
     "name": "stdout",
     "output_type": "stream",
     "text": [
      "root\n",
      " |-- timestamp: string (nullable = true)\n",
      " |-- user_id: string (nullable = true)\n",
      "\n"
     ]
    },
    {
     "name": "stderr",
     "output_type": "stream",
     "text": [
      "\r",
      "                                                                                \r"
     ]
    }
   ],
   "source": [
    "df = spark.read.format(\"csv\").options(header='true', inferschema='true', delimiter=',').load(\"/home/rita/Documents/Spark/Assignments/DE_Cohorts_Assignment_Data.csv\")"
   ]
  },
  {
   "cell_type": "code",
   "execution_count": 40,
   "id": "b87fb2dc",
   "metadata": {},
   "outputs": [
    {
     "name": "stdout",
     "output_type": "stream",
     "text": [
      "+-------------------+-------+\n",
      "|          timestamp|user_id|\n",
      "+-------------------+-------+\n",
      "|2018-04-07 07:07:17|  14626|\n",
      "|2018-04-07 07:32:27|  85490|\n",
      "|2018-04-07 07:36:44|  05408|\n",
      "|2018-04-07 07:38:00|  58940|\n",
      "|2018-04-07 07:39:29|  05408|\n",
      "|2018-04-07 07:43:08|  05408|\n",
      "|2018-04-07 07:43:55|  50266|\n",
      "|2018-04-07 07:52:31|  58940|\n",
      "|2018-04-07 07:52:42|  58940|\n",
      "|2018-04-07 07:53:23|  28126|\n",
      "|2018-04-07 07:55:05|  99251|\n",
      "|2018-04-07 07:55:24|  99251|\n",
      "|2018-04-07 08:00:04|  34808|\n",
      "|2018-04-07 08:00:16|  34808|\n",
      "|2018-04-07 08:03:16|  89714|\n",
      "|2018-04-07 08:03:24|  89714|\n",
      "|2018-04-07 08:07:16|  82060|\n",
      "|2018-04-07 08:08:57|  18815|\n",
      "|2018-04-07 08:11:35|  38288|\n",
      "|2018-04-07 08:17:24|  80401|\n",
      "+-------------------+-------+\n",
      "only showing top 20 rows\n",
      "\n"
     ]
    }
   ],
   "source": [
    "df.show()"
   ]
  },
  {
   "cell_type": "code",
   "execution_count": 71,
   "id": "0ab002dc",
   "metadata": {},
   "outputs": [
    {
     "name": "stdout",
     "output_type": "stream",
     "text": [
      "(8381556, 2)\n"
     ]
    },
    {
     "name": "stderr",
     "output_type": "stream",
     "text": [
      "\r",
      "[Stage 49:===================>                                     (4 + 8) / 12]\r",
      "\r",
      "                                                                                \r"
     ]
    }
   ],
   "source": [
    "print((df.count(), len(df.columns)))"
   ]
  },
  {
   "cell_type": "code",
   "execution_count": 50,
   "id": "4b7cf670",
   "metadata": {},
   "outputs": [
    {
     "name": "stdout",
     "output_type": "stream",
     "text": [
      "+----------+-------+\n",
      "|      date|user_id|\n",
      "+----------+-------+\n",
      "|2018-04-07|  14626|\n",
      "|2018-04-07|  85490|\n",
      "|2018-04-07|  05408|\n",
      "|2018-04-07|  58940|\n",
      "|2018-04-07|  05408|\n",
      "|2018-04-07|  05408|\n",
      "|2018-04-07|  50266|\n",
      "|2018-04-07|  58940|\n",
      "|2018-04-07|  58940|\n",
      "|2018-04-07|  28126|\n",
      "|2018-04-07|  99251|\n",
      "|2018-04-07|  99251|\n",
      "|2018-04-07|  34808|\n",
      "|2018-04-07|  34808|\n",
      "|2018-04-07|  89714|\n",
      "|2018-04-07|  89714|\n",
      "|2018-04-07|  82060|\n",
      "|2018-04-07|  18815|\n",
      "|2018-04-07|  38288|\n",
      "|2018-04-07|  80401|\n",
      "+----------+-------+\n",
      "only showing top 20 rows\n",
      "\n"
     ]
    }
   ],
   "source": [
    "df_1 = df.select(substring('timestamp',1,10).alias('date'),'user_id')\n",
    "df_1.show()"
   ]
  },
  {
   "cell_type": "code",
   "execution_count": 64,
   "id": "d77bd0e5",
   "metadata": {},
   "outputs": [
    {
     "name": "stderr",
     "output_type": "stream",
     "text": [
      "\r",
      "[Stage 40:>                                                       (0 + 12) / 12]\r"
     ]
    },
    {
     "name": "stdout",
     "output_type": "stream",
     "text": [
      "+----------+----------+\n",
      "| min(date)| max(date)|\n",
      "+----------+----------+\n",
      "|2018-04-07|2019-04-07|\n",
      "+----------+----------+\n",
      "\n"
     ]
    },
    {
     "name": "stderr",
     "output_type": "stream",
     "text": [
      "\r",
      "[Stage 40:====>                                                   (1 + 11) / 12]\r",
      "\r",
      "                                                                                \r"
     ]
    }
   ],
   "source": [
    "min_max_date = df_1.select(min(col('date')),max(col('date')))\n",
    "min_max_date.show()"
   ]
  },
  {
   "cell_type": "code",
   "execution_count": 53,
   "id": "1b52e846",
   "metadata": {},
   "outputs": [],
   "source": [
    "users_per_date = df_1.groupby('date').count().orderBy('date')"
   ]
  },
  {
   "cell_type": "code",
   "execution_count": 54,
   "id": "211e1293",
   "metadata": {},
   "outputs": [
    {
     "name": "stderr",
     "output_type": "stream",
     "text": [
      "[Stage 22:=========>                                              (2 + 10) / 12]\r"
     ]
    },
    {
     "name": "stdout",
     "output_type": "stream",
     "text": [
      "+----------+-----+\n",
      "|      date|count|\n",
      "+----------+-----+\n",
      "|2018-04-07| 9375|\n",
      "|2018-04-08| 5716|\n",
      "|2018-04-09|11552|\n",
      "|2018-04-10|11186|\n",
      "|2018-04-11|12129|\n",
      "|2018-04-12|10359|\n",
      "|2018-04-13|13469|\n",
      "|2018-04-14| 6588|\n",
      "|2018-04-15| 4193|\n",
      "|2018-04-16|10540|\n",
      "|2018-04-17| 9455|\n",
      "|2018-04-18| 9646|\n",
      "|2018-04-19|12267|\n",
      "|2018-04-20|10062|\n",
      "|2018-04-21| 6916|\n",
      "|2018-04-22| 3225|\n",
      "|2018-04-23| 9049|\n",
      "|2018-04-24| 8211|\n",
      "|2018-04-25| 9159|\n",
      "|2018-04-26| 9014|\n",
      "+----------+-----+\n",
      "only showing top 20 rows\n",
      "\n"
     ]
    },
    {
     "name": "stderr",
     "output_type": "stream",
     "text": [
      "\r",
      "                                                                                \r"
     ]
    }
   ],
   "source": [
    "users_per_date.show()"
   ]
  },
  {
   "cell_type": "code",
   "execution_count": null,
   "id": "7ca220f6",
   "metadata": {},
   "outputs": [],
   "source": []
  }
 ],
 "metadata": {
  "kernelspec": {
   "display_name": "Python 3 (ipykernel)",
   "language": "python",
   "name": "python3"
  },
  "language_info": {
   "codemirror_mode": {
    "name": "ipython",
    "version": 3
   },
   "file_extension": ".py",
   "mimetype": "text/x-python",
   "name": "python",
   "nbconvert_exporter": "python",
   "pygments_lexer": "ipython3",
   "version": "3.9.7"
  }
 },
 "nbformat": 4,
 "nbformat_minor": 5
}
