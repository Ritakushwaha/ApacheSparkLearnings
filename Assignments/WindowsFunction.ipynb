{
 "cells": [
  {
   "cell_type": "markdown",
   "id": "b2c04de3",
   "metadata": {},
   "source": [
    "# Writing Windows Function\n",
    "\n",
    "You need to write Spark code to perform the steps mentioned below. You\n",
    "should write it to optimize for execution speed.\n",
    "\n",
    "#### 1. Filter the complete dataset for DISH = (Biryani or Pizza or Dosa) from X, where X is the complete dataset\n",
    "#### 2. Group by ORDERID, STOREID, PRICE\n",
    "#### 3. If the number of records in the group are > 1\n",
    "##### 3.1 If the group just has records with DISH = Biryani\n",
    "######       Just keep one record with the following updated:\n",
    "######       TOTALAMOUNT = SUM(TOTALAMOUNT)\n",
    "######       QUANTITY = SUM(QUANTITY)\n",
    "######       JUSTANOTHERFEATURE = SUM(JUSTANOTHERFEATURE)\n",
    "##### 3.2 If the group consists of records with DISH = Biryani and DISH = Pizza or Dosa\n",
    "######      Compute SUM(TOTALAMOUNT)\n",
    "######          If SUM(TOTALAMOUNT) ≤ 0, drop all these records\n",
    "######          If SUM(TOTALAMOUNT) > 0,\n",
    "######          Find and keep one record with a positive TOTALAMOUNT and DISH = Pizza or Dosa and update the following:\n",
    "######            TOTALAMOUNT = SUM(TOTALAMOUNT)\n",
    "######            QUANTITY = SUM(QUANTITY)\n",
    "######            JUSTANOTHERFEATURE = SUM(JUSTANOTHERFEATURE)\n",
    "######            If SUM(QUANTITY)=0:\n",
    "######            If TOTALAMOUNT > 0:\n",
    "######            QUANTITY = 10\n",
    "######            JUSTANOTHERFEATURE = 20\n",
    "######            If TOTALAMOUNT < 0:\n",
    "######            QUANTITY = -20\n",
    "######            JUSTANOTHERFEATURE = -10\n",
    "\n",
    "######           In case you can't find such a record, drop all these records\n",
    "\n",
    "##### 3.3 Update the column JUSTANOTHERFEATURE with a list of distinct values which are greater than 1 in that column for the group.\n",
    "#### 4. Else do nothing.\n",
    "#### 5. Merge it back with X and write to the output to a S3 path partitioned by the DISH name.\n",
    "\n",
    "In case you assume anything about the problem statement while writing the code for it, please do mention it.\n",
    "\n",
    "\n",
    "### We can get Dataset from the given link\n",
    "https://drive.google.com/file/d/1JbO0JS9UKZdqhwLrTRVYfivTLycfOrpC/"
   ]
  },
  {
   "cell_type": "code",
   "execution_count": 145,
   "id": "e9fc6cf4",
   "metadata": {},
   "outputs": [
    {
     "name": "stdout",
     "output_type": "stream",
     "text": [
      "/home/rita/Documents/Spark/Assignments\r\n"
     ]
    }
   ],
   "source": [
    "#!/usr/bin/env bash\n",
    "!pwd"
   ]
  },
  {
   "cell_type": "code",
   "execution_count": 146,
   "id": "40d8083e",
   "metadata": {},
   "outputs": [],
   "source": [
    "from pyspark.sql import SparkSession\n",
    "from pyspark.sql.functions import explode, split, window,substring, col,col, udf, collect_list, collect_set, count, when,sum\n",
    "from pyspark.sql.functions import *\n",
    "from datetime import datetime\n",
    "import time\n",
    "from pyspark.sql import Window\n",
    "from pyspark.sql.types import  *"
   ]
  },
  {
   "cell_type": "code",
   "execution_count": 147,
   "id": "1ca6dbc3",
   "metadata": {},
   "outputs": [],
   "source": [
    "spark = SparkSession.builder.appName(\"Window Function Assignment\").master(\"local[*]\").getOrCreate()"
   ]
  },
  {
   "cell_type": "code",
   "execution_count": 159,
   "id": "4ac7d277",
   "metadata": {
    "scrolled": true
   },
   "outputs": [
    {
     "name": "stderr",
     "output_type": "stream",
     "text": [
      "                                                                                \r"
     ]
    }
   ],
   "source": [
    "data = spark.read.format(\"parquet\")\\\n",
    ".options(header='true', inferschema='true', delimiter=',')\\\n",
    ".load(\"/home/rita/Documents/Spark/Assignments/spark_assignment_data.snappy.parquet\")\n",
    "\n",
    "data.toPandas().to_csv('data.csv')"
   ]
  },
  {
   "cell_type": "code",
   "execution_count": 149,
   "id": "7e7a9d4c",
   "metadata": {},
   "outputs": [
    {
     "name": "stdout",
     "output_type": "stream",
     "text": [
      "(1129292, 7)\n"
     ]
    }
   ],
   "source": [
    "print((data.count(), len(data.columns)))"
   ]
  },
  {
   "cell_type": "code",
   "execution_count": 165,
   "id": "66f53a02",
   "metadata": {},
   "outputs": [
    {
     "name": "stdout",
     "output_type": "stream",
     "text": [
      "Collecting pyarrow\n",
      "  Downloading pyarrow-6.0.1-cp39-cp39-manylinux_2_17_x86_64.manylinux2014_x86_64.whl (25.6 MB)\n",
      "\u001b[K     |████████████████████████████████| 25.6 MB 934 kB/s eta 0:00:01\n",
      "\u001b[?25hRequirement already satisfied: numpy>=1.16.6 in /home/rita/anaconda3/lib/python3.9/site-packages (from pyarrow) (1.20.3)\n",
      "Installing collected packages: pyarrow\n",
      "Successfully installed pyarrow-6.0.1\n"
     ]
    }
   ],
   "source": [
    "!pip install pyarrow"
   ]
  },
  {
   "cell_type": "code",
   "execution_count": 168,
   "id": "21887423",
   "metadata": {},
   "outputs": [
    {
     "ename": "KeyError",
     "evalue": "'B'",
     "output_type": "error",
     "traceback": [
      "\u001b[0;31m---------------------------------------------------------------------------\u001b[0m",
      "\u001b[0;31mKeyError\u001b[0m                                  Traceback (most recent call last)",
      "\u001b[0;32m~/anaconda3/lib/python3.9/site-packages/pandas/core/indexes/base.py\u001b[0m in \u001b[0;36mget_loc\u001b[0;34m(self, key, method, tolerance)\u001b[0m\n\u001b[1;32m   3360\u001b[0m             \u001b[0;32mtry\u001b[0m\u001b[0;34m:\u001b[0m\u001b[0;34m\u001b[0m\u001b[0;34m\u001b[0m\u001b[0m\n\u001b[0;32m-> 3361\u001b[0;31m                 \u001b[0;32mreturn\u001b[0m \u001b[0mself\u001b[0m\u001b[0;34m.\u001b[0m\u001b[0m_engine\u001b[0m\u001b[0;34m.\u001b[0m\u001b[0mget_loc\u001b[0m\u001b[0;34m(\u001b[0m\u001b[0mcasted_key\u001b[0m\u001b[0;34m)\u001b[0m\u001b[0;34m\u001b[0m\u001b[0;34m\u001b[0m\u001b[0m\n\u001b[0m\u001b[1;32m   3362\u001b[0m             \u001b[0;32mexcept\u001b[0m \u001b[0mKeyError\u001b[0m \u001b[0;32mas\u001b[0m \u001b[0merr\u001b[0m\u001b[0;34m:\u001b[0m\u001b[0;34m\u001b[0m\u001b[0;34m\u001b[0m\u001b[0m\n",
      "\u001b[0;32m~/anaconda3/lib/python3.9/site-packages/pandas/_libs/index.pyx\u001b[0m in \u001b[0;36mpandas._libs.index.IndexEngine.get_loc\u001b[0;34m()\u001b[0m\n",
      "\u001b[0;32m~/anaconda3/lib/python3.9/site-packages/pandas/_libs/index.pyx\u001b[0m in \u001b[0;36mpandas._libs.index.IndexEngine.get_loc\u001b[0;34m()\u001b[0m\n",
      "\u001b[0;32mpandas/_libs/hashtable_class_helper.pxi\u001b[0m in \u001b[0;36mpandas._libs.hashtable.PyObjectHashTable.get_item\u001b[0;34m()\u001b[0m\n",
      "\u001b[0;32mpandas/_libs/hashtable_class_helper.pxi\u001b[0m in \u001b[0;36mpandas._libs.hashtable.PyObjectHashTable.get_item\u001b[0;34m()\u001b[0m\n",
      "\u001b[0;31mKeyError\u001b[0m: 'B'",
      "\nThe above exception was the direct cause of the following exception:\n",
      "\u001b[0;31mKeyError\u001b[0m                                  Traceback (most recent call last)",
      "\u001b[0;32m/tmp/ipykernel_9509/872207098.py\u001b[0m in \u001b[0;36m<module>\u001b[0;34m\u001b[0m\n\u001b[1;32m     17\u001b[0m \u001b[0;34m\u001b[0m\u001b[0m\n\u001b[1;32m     18\u001b[0m \u001b[0mpq\u001b[0m\u001b[0;34m.\u001b[0m\u001b[0mwrite_table\u001b[0m\u001b[0;34m(\u001b[0m\u001b[0mtable\u001b[0m\u001b[0;34m,\u001b[0m \u001b[0;34m'example.parquet'\u001b[0m\u001b[0;34m,\u001b[0m \u001b[0mflavor\u001b[0m\u001b[0;34m=\u001b[0m\u001b[0;34m'spark'\u001b[0m\u001b[0;34m)\u001b[0m\u001b[0;34m\u001b[0m\u001b[0;34m\u001b[0m\u001b[0m\n\u001b[0;32m---> 19\u001b[0;31m \u001b[0mpq\u001b[0m\u001b[0;34m.\u001b[0m\u001b[0mwrite_to_dataset\u001b[0m\u001b[0;34m(\u001b[0m\u001b[0mtable\u001b[0m\u001b[0;34m,\u001b[0m \u001b[0mroot_path\u001b[0m\u001b[0;34m=\u001b[0m\u001b[0;34m\"test_part_file\"\u001b[0m\u001b[0;34m,\u001b[0m \u001b[0mpartition_cols\u001b[0m\u001b[0;34m=\u001b[0m\u001b[0;34m[\u001b[0m\u001b[0;34m'B'\u001b[0m\u001b[0;34m,\u001b[0m \u001b[0;34m'C'\u001b[0m\u001b[0;34m]\u001b[0m\u001b[0;34m,\u001b[0m \u001b[0mflavor\u001b[0m\u001b[0;34m=\u001b[0m\u001b[0;34m'spark'\u001b[0m\u001b[0;34m)\u001b[0m\u001b[0;34m\u001b[0m\u001b[0;34m\u001b[0m\u001b[0m\n\u001b[0m\u001b[1;32m     20\u001b[0m \u001b[0;34m\u001b[0m\u001b[0m\n\u001b[1;32m     21\u001b[0m \u001b[0;31m# Adding a new partition (B=b2/C=c3\u001b[0m\u001b[0;34m\u001b[0m\u001b[0;34m\u001b[0m\u001b[0m\n",
      "\u001b[0;32m~/anaconda3/lib/python3.9/site-packages/pyarrow/parquet.py\u001b[0m in \u001b[0;36mwrite_to_dataset\u001b[0;34m(table, root_path, partition_cols, partition_filename_cb, filesystem, use_legacy_dataset, **kwargs)\u001b[0m\n\u001b[1;32m   2170\u001b[0m     \u001b[0;32mif\u001b[0m \u001b[0mpartition_cols\u001b[0m \u001b[0;32mis\u001b[0m \u001b[0;32mnot\u001b[0m \u001b[0;32mNone\u001b[0m \u001b[0;32mand\u001b[0m \u001b[0mlen\u001b[0m\u001b[0;34m(\u001b[0m\u001b[0mpartition_cols\u001b[0m\u001b[0;34m)\u001b[0m \u001b[0;34m>\u001b[0m \u001b[0;36m0\u001b[0m\u001b[0;34m:\u001b[0m\u001b[0;34m\u001b[0m\u001b[0;34m\u001b[0m\u001b[0m\n\u001b[1;32m   2171\u001b[0m         \u001b[0mdf\u001b[0m \u001b[0;34m=\u001b[0m \u001b[0mtable\u001b[0m\u001b[0;34m.\u001b[0m\u001b[0mto_pandas\u001b[0m\u001b[0;34m(\u001b[0m\u001b[0;34m)\u001b[0m\u001b[0;34m\u001b[0m\u001b[0;34m\u001b[0m\u001b[0m\n\u001b[0;32m-> 2172\u001b[0;31m         \u001b[0mpartition_keys\u001b[0m \u001b[0;34m=\u001b[0m \u001b[0;34m[\u001b[0m\u001b[0mdf\u001b[0m\u001b[0;34m[\u001b[0m\u001b[0mcol\u001b[0m\u001b[0;34m]\u001b[0m \u001b[0;32mfor\u001b[0m \u001b[0mcol\u001b[0m \u001b[0;32min\u001b[0m \u001b[0mpartition_cols\u001b[0m\u001b[0;34m]\u001b[0m\u001b[0;34m\u001b[0m\u001b[0;34m\u001b[0m\u001b[0m\n\u001b[0m\u001b[1;32m   2173\u001b[0m         \u001b[0mdata_df\u001b[0m \u001b[0;34m=\u001b[0m \u001b[0mdf\u001b[0m\u001b[0;34m.\u001b[0m\u001b[0mdrop\u001b[0m\u001b[0;34m(\u001b[0m\u001b[0mpartition_cols\u001b[0m\u001b[0;34m,\u001b[0m \u001b[0maxis\u001b[0m\u001b[0;34m=\u001b[0m\u001b[0;34m'columns'\u001b[0m\u001b[0;34m)\u001b[0m\u001b[0;34m\u001b[0m\u001b[0;34m\u001b[0m\u001b[0m\n\u001b[1;32m   2174\u001b[0m         \u001b[0mdata_cols\u001b[0m \u001b[0;34m=\u001b[0m \u001b[0mdf\u001b[0m\u001b[0;34m.\u001b[0m\u001b[0mcolumns\u001b[0m\u001b[0;34m.\u001b[0m\u001b[0mdrop\u001b[0m\u001b[0;34m(\u001b[0m\u001b[0mpartition_cols\u001b[0m\u001b[0;34m)\u001b[0m\u001b[0;34m\u001b[0m\u001b[0;34m\u001b[0m\u001b[0m\n",
      "\u001b[0;32m~/anaconda3/lib/python3.9/site-packages/pyarrow/parquet.py\u001b[0m in \u001b[0;36m<listcomp>\u001b[0;34m(.0)\u001b[0m\n\u001b[1;32m   2170\u001b[0m     \u001b[0;32mif\u001b[0m \u001b[0mpartition_cols\u001b[0m \u001b[0;32mis\u001b[0m \u001b[0;32mnot\u001b[0m \u001b[0;32mNone\u001b[0m \u001b[0;32mand\u001b[0m \u001b[0mlen\u001b[0m\u001b[0;34m(\u001b[0m\u001b[0mpartition_cols\u001b[0m\u001b[0;34m)\u001b[0m \u001b[0;34m>\u001b[0m \u001b[0;36m0\u001b[0m\u001b[0;34m:\u001b[0m\u001b[0;34m\u001b[0m\u001b[0;34m\u001b[0m\u001b[0m\n\u001b[1;32m   2171\u001b[0m         \u001b[0mdf\u001b[0m \u001b[0;34m=\u001b[0m \u001b[0mtable\u001b[0m\u001b[0;34m.\u001b[0m\u001b[0mto_pandas\u001b[0m\u001b[0;34m(\u001b[0m\u001b[0;34m)\u001b[0m\u001b[0;34m\u001b[0m\u001b[0;34m\u001b[0m\u001b[0m\n\u001b[0;32m-> 2172\u001b[0;31m         \u001b[0mpartition_keys\u001b[0m \u001b[0;34m=\u001b[0m \u001b[0;34m[\u001b[0m\u001b[0mdf\u001b[0m\u001b[0;34m[\u001b[0m\u001b[0mcol\u001b[0m\u001b[0;34m]\u001b[0m \u001b[0;32mfor\u001b[0m \u001b[0mcol\u001b[0m \u001b[0;32min\u001b[0m \u001b[0mpartition_cols\u001b[0m\u001b[0;34m]\u001b[0m\u001b[0;34m\u001b[0m\u001b[0;34m\u001b[0m\u001b[0m\n\u001b[0m\u001b[1;32m   2173\u001b[0m         \u001b[0mdata_df\u001b[0m \u001b[0;34m=\u001b[0m \u001b[0mdf\u001b[0m\u001b[0;34m.\u001b[0m\u001b[0mdrop\u001b[0m\u001b[0;34m(\u001b[0m\u001b[0mpartition_cols\u001b[0m\u001b[0;34m,\u001b[0m \u001b[0maxis\u001b[0m\u001b[0;34m=\u001b[0m\u001b[0;34m'columns'\u001b[0m\u001b[0;34m)\u001b[0m\u001b[0;34m\u001b[0m\u001b[0;34m\u001b[0m\u001b[0m\n\u001b[1;32m   2174\u001b[0m         \u001b[0mdata_cols\u001b[0m \u001b[0;34m=\u001b[0m \u001b[0mdf\u001b[0m\u001b[0;34m.\u001b[0m\u001b[0mcolumns\u001b[0m\u001b[0;34m.\u001b[0m\u001b[0mdrop\u001b[0m\u001b[0;34m(\u001b[0m\u001b[0mpartition_cols\u001b[0m\u001b[0;34m)\u001b[0m\u001b[0;34m\u001b[0m\u001b[0;34m\u001b[0m\u001b[0m\n",
      "\u001b[0;32m~/anaconda3/lib/python3.9/site-packages/pandas/core/frame.py\u001b[0m in \u001b[0;36m__getitem__\u001b[0;34m(self, key)\u001b[0m\n\u001b[1;32m   3456\u001b[0m             \u001b[0;32mif\u001b[0m \u001b[0mself\u001b[0m\u001b[0;34m.\u001b[0m\u001b[0mcolumns\u001b[0m\u001b[0;34m.\u001b[0m\u001b[0mnlevels\u001b[0m \u001b[0;34m>\u001b[0m \u001b[0;36m1\u001b[0m\u001b[0;34m:\u001b[0m\u001b[0;34m\u001b[0m\u001b[0;34m\u001b[0m\u001b[0m\n\u001b[1;32m   3457\u001b[0m                 \u001b[0;32mreturn\u001b[0m \u001b[0mself\u001b[0m\u001b[0;34m.\u001b[0m\u001b[0m_getitem_multilevel\u001b[0m\u001b[0;34m(\u001b[0m\u001b[0mkey\u001b[0m\u001b[0;34m)\u001b[0m\u001b[0;34m\u001b[0m\u001b[0;34m\u001b[0m\u001b[0m\n\u001b[0;32m-> 3458\u001b[0;31m             \u001b[0mindexer\u001b[0m \u001b[0;34m=\u001b[0m \u001b[0mself\u001b[0m\u001b[0;34m.\u001b[0m\u001b[0mcolumns\u001b[0m\u001b[0;34m.\u001b[0m\u001b[0mget_loc\u001b[0m\u001b[0;34m(\u001b[0m\u001b[0mkey\u001b[0m\u001b[0;34m)\u001b[0m\u001b[0;34m\u001b[0m\u001b[0;34m\u001b[0m\u001b[0m\n\u001b[0m\u001b[1;32m   3459\u001b[0m             \u001b[0;32mif\u001b[0m \u001b[0mis_integer\u001b[0m\u001b[0;34m(\u001b[0m\u001b[0mindexer\u001b[0m\u001b[0;34m)\u001b[0m\u001b[0;34m:\u001b[0m\u001b[0;34m\u001b[0m\u001b[0;34m\u001b[0m\u001b[0m\n\u001b[1;32m   3460\u001b[0m                 \u001b[0mindexer\u001b[0m \u001b[0;34m=\u001b[0m \u001b[0;34m[\u001b[0m\u001b[0mindexer\u001b[0m\u001b[0;34m]\u001b[0m\u001b[0;34m\u001b[0m\u001b[0;34m\u001b[0m\u001b[0m\n",
      "\u001b[0;32m~/anaconda3/lib/python3.9/site-packages/pandas/core/indexes/base.py\u001b[0m in \u001b[0;36mget_loc\u001b[0;34m(self, key, method, tolerance)\u001b[0m\n\u001b[1;32m   3361\u001b[0m                 \u001b[0;32mreturn\u001b[0m \u001b[0mself\u001b[0m\u001b[0;34m.\u001b[0m\u001b[0m_engine\u001b[0m\u001b[0;34m.\u001b[0m\u001b[0mget_loc\u001b[0m\u001b[0;34m(\u001b[0m\u001b[0mcasted_key\u001b[0m\u001b[0;34m)\u001b[0m\u001b[0;34m\u001b[0m\u001b[0;34m\u001b[0m\u001b[0m\n\u001b[1;32m   3362\u001b[0m             \u001b[0;32mexcept\u001b[0m \u001b[0mKeyError\u001b[0m \u001b[0;32mas\u001b[0m \u001b[0merr\u001b[0m\u001b[0;34m:\u001b[0m\u001b[0;34m\u001b[0m\u001b[0;34m\u001b[0m\u001b[0m\n\u001b[0;32m-> 3363\u001b[0;31m                 \u001b[0;32mraise\u001b[0m \u001b[0mKeyError\u001b[0m\u001b[0;34m(\u001b[0m\u001b[0mkey\u001b[0m\u001b[0;34m)\u001b[0m \u001b[0;32mfrom\u001b[0m \u001b[0merr\u001b[0m\u001b[0;34m\u001b[0m\u001b[0;34m\u001b[0m\u001b[0m\n\u001b[0m\u001b[1;32m   3364\u001b[0m \u001b[0;34m\u001b[0m\u001b[0m\n\u001b[1;32m   3365\u001b[0m         \u001b[0;32mif\u001b[0m \u001b[0mis_scalar\u001b[0m\u001b[0;34m(\u001b[0m\u001b[0mkey\u001b[0m\u001b[0;34m)\u001b[0m \u001b[0;32mand\u001b[0m \u001b[0misna\u001b[0m\u001b[0;34m(\u001b[0m\u001b[0mkey\u001b[0m\u001b[0;34m)\u001b[0m \u001b[0;32mand\u001b[0m \u001b[0;32mnot\u001b[0m \u001b[0mself\u001b[0m\u001b[0;34m.\u001b[0m\u001b[0mhasnans\u001b[0m\u001b[0;34m:\u001b[0m\u001b[0;34m\u001b[0m\u001b[0;34m\u001b[0m\u001b[0m\n",
      "\u001b[0;31mKeyError\u001b[0m: 'B'"
     ]
    }
   ],
   "source": [
    "import pyarrow.parquet as pq\n",
    "import pyarrow as pa\n",
    "import pandas as pd\n",
    "\n",
    "headers=['DISH','ORDERID','STOREID','PRICE','TOTALAMOUNT','QUANTITY','JUSTANOTHERFEATURE']\n",
    "\n",
    "row1 = ['Biryani','ijhibhid','acbgfa',-73.0,-29.6,-1.0,1.0]\n",
    "row2 = ['Biryani','cjacbhid','cibdabc',-114.79,-44.326,-1.0,1.0]\n",
    "\n",
    "df1 = pd.DataFrame([row1], columns=headers)\n",
    "df2 = pd.DataFrame([row2], columns=headers)\n",
    "\n",
    "df3 = df1.append(df2, ignore_index=True)\n",
    "\n",
    "\n",
    "table = pa.Table.from_pandas(df3)\n",
    "\n",
    "pq.write_table(table, 'example.parquet', flavor='spark')\n",
    "pq.write_to_dataset(table, root_path=\"test_part_file\", partition_cols=['B', 'C'], flavor='spark')\n",
    "\n",
    "# Adding a new partition (B=b2/C=c3\n",
    "\n",
    "\n",
    "row3 = ['Biryani','cjacbhid','cibdabc',-114.79,-44.326,-1.0,2.0]\n",
    "df4 = pd.DataFrame([row3], columns=headers)\n",
    "\n",
    "table2 = pa.Table.from_pandas(df4)\n",
    "pq.write_to_dataset(table2, root_path=\"test_part_file\", partition_cols=['B', 'C'], flavor='spark')\n",
    "\n",
    "# Add another parquet file to the B=b2/C=c2 partition\n",
    "# Note this does not overwrite existing partitions, it just appends a new .parquet file.\n",
    "# If files already exist, then you will get a union result of the two (or multiple) files when you read the partition\n",
    "row5 = ['Biryani','dbjjbhid','jcjgcj',-43.39,-19.166,-1.0,1.0]\n",
    "df5 = pd.DataFrame([row5], columns=headers)\n",
    "table3 = pa.Table.from_pandas(df5)\n",
    "pq.write_to_dataset(table3, root_path=\"test_part_file\", partition_cols=['B', 'C'], flavor='spark')"
   ]
  },
  {
   "cell_type": "code",
   "execution_count": null,
   "id": "0cd1a9eb",
   "metadata": {},
   "outputs": [],
   "source": []
  },
  {
   "cell_type": "code",
   "execution_count": null,
   "id": "9c7fbe2d",
   "metadata": {},
   "outputs": [],
   "source": []
  },
  {
   "cell_type": "markdown",
   "id": "b4022670",
   "metadata": {},
   "source": [
    "### Filter the complete dataset for DISH = (Biryani or Pizza or Dosa) from X, where X is the complete dataset"
   ]
  },
  {
   "cell_type": "code",
   "execution_count": 160,
   "id": "36f01280",
   "metadata": {
    "scrolled": true
   },
   "outputs": [
    {
     "name": "stderr",
     "output_type": "stream",
     "text": [
      "                                                                                \r"
     ]
    }
   ],
   "source": [
    "dishes = ['Biryani','Pizza','Dosa']\n",
    "filtered_df = df.filter(df.DISH.isin(dishes))\n",
    "filtered_df.toPandas().to_csv('filtered.csv')"
   ]
  },
  {
   "cell_type": "code",
   "execution_count": 151,
   "id": "e8d0686a",
   "metadata": {},
   "outputs": [
    {
     "name": "stdout",
     "output_type": "stream",
     "text": [
      "(805280, 7)\n"
     ]
    }
   ],
   "source": [
    "print((filtered_df.count(), len(filtered_df.columns)))"
   ]
  },
  {
   "cell_type": "code",
   "execution_count": 152,
   "id": "d46eb03f",
   "metadata": {
    "scrolled": true
   },
   "outputs": [
    {
     "name": "stdout",
     "output_type": "stream",
     "text": [
      "+-------+-----------+\n",
      "|   DISH|count(DISH)|\n",
      "+-------+-----------+\n",
      "|   Dosa|       4938|\n",
      "|Biryani|        585|\n",
      "|  Pizza|     799757|\n",
      "+-------+-----------+\n",
      "\n"
     ]
    }
   ],
   "source": [
    "dish_part = Window.partitionBy(\"DISH\")\n",
    "\n",
    "count_dishes = filtered_df.select('DISH').groupby(col('DISH')).agg(count(col('DISH')))\n",
    "count_dishes.show()"
   ]
  },
  {
   "cell_type": "code",
   "execution_count": 161,
   "id": "1d229628",
   "metadata": {
    "scrolled": true
   },
   "outputs": [
    {
     "name": "stderr",
     "output_type": "stream",
     "text": [
      "                                                                                \r"
     ]
    }
   ],
   "source": [
    "partition_ = Window.partitionBy(\"ORDERID\",\"STOREID\",\"PRICE\").orderBy(\"DISH\")\n",
    "\n",
    "grouped_df = filtered_df.withColumn(\"records\", count(\"*\").over(partition_))\n",
    "grouped_df.toPandas().to_csv('grouped.csv')"
   ]
  },
  {
   "cell_type": "code",
   "execution_count": 12,
   "id": "e93b3b2c",
   "metadata": {
    "scrolled": true
   },
   "outputs": [
    {
     "name": "stdout",
     "output_type": "stream",
     "text": [
      "+-------+-----------+\n",
      "|   DISH|count(DISH)|\n",
      "+-------+-----------+\n",
      "|   Dosa|       4938|\n",
      "|Biryani|        585|\n",
      "|  Pizza|     799757|\n",
      "+-------+-----------+\n",
      "\n"
     ]
    }
   ],
   "source": [
    "count_dishes = grouped_df.select('DISH').groupby(col('DISH')).agg(count(col('DISH')))\n",
    "count_dishes.show()"
   ]
  },
  {
   "cell_type": "code",
   "execution_count": 162,
   "id": "8c9bb66c",
   "metadata": {},
   "outputs": [
    {
     "name": "stderr",
     "output_type": "stream",
     "text": [
      "                                                                                \r"
     ]
    }
   ],
   "source": [
    "records_greater_than_1 = grouped_df.filter(grouped_df.records > 1)\n",
    "records_greater_than_1.toPandas().to_csv('records_greater_than_1.csv')"
   ]
  },
  {
   "cell_type": "code",
   "execution_count": 61,
   "id": "fd562102",
   "metadata": {},
   "outputs": [
    {
     "name": "stderr",
     "output_type": "stream",
     "text": [
      "                                                                                \r"
     ]
    },
    {
     "name": "stdout",
     "output_type": "stream",
     "text": [
      "+----+-------+-------+-----+-----------+--------+------------------+-------+\n",
      "|DISH|ORDERID|STOREID|PRICE|TOTALAMOUNT|QUANTITY|JUSTANOTHERFEATURE|records|\n",
      "+----+-------+-------+-----+-----------+--------+------------------+-------+\n",
      "+----+-------+-------+-----+-----------+--------+------------------+-------+\n",
      "\n"
     ]
    }
   ],
   "source": [
    "biryani = records_greater_than_1.filter(grouped_df.DISH==\"Biryani\")\n",
    "biryani.show()"
   ]
  },
  {
   "cell_type": "code",
   "execution_count": 15,
   "id": "3be134a2",
   "metadata": {
    "scrolled": true
   },
   "outputs": [
    {
     "name": "stderr",
     "output_type": "stream",
     "text": [
      "\r",
      "[Stage 32:=============================>                            (1 + 1) / 2]\r"
     ]
    },
    {
     "name": "stdout",
     "output_type": "stream",
     "text": [
      "+-----+-----------+\n",
      "| DISH|count(DISH)|\n",
      "+-----+-----------+\n",
      "| Dosa|        404|\n",
      "|Pizza|      13229|\n",
      "+-----+-----------+\n",
      "\n"
     ]
    },
    {
     "name": "stderr",
     "output_type": "stream",
     "text": [
      "\r",
      "                                                                                \r"
     ]
    }
   ],
   "source": [
    "count_dishes = records_greater_than_1.select('DISH').groupby(col('DISH')).agg(count(col('DISH')))\n",
    "count_dishes.show()"
   ]
  },
  {
   "cell_type": "code",
   "execution_count": 16,
   "id": "087ffa5a",
   "metadata": {
    "scrolled": true
   },
   "outputs": [
    {
     "name": "stderr",
     "output_type": "stream",
     "text": [
      "                                                                                \r"
     ]
    },
    {
     "name": "stdout",
     "output_type": "stream",
     "text": [
      "+--------+\n",
      "|count(1)|\n",
      "+--------+\n",
      "|   13633|\n",
      "+--------+\n",
      "\n"
     ]
    }
   ],
   "source": [
    "no_of_records = records_greater_than_1.agg(count(\"*\"))\n",
    "no_of_records.show()"
   ]
  },
  {
   "cell_type": "code",
   "execution_count": 19,
   "id": "6d598a91",
   "metadata": {},
   "outputs": [
    {
     "name": "stderr",
     "output_type": "stream",
     "text": [
      "                                                                                \r"
     ]
    },
    {
     "name": "stdout",
     "output_type": "stream",
     "text": [
      "+----+-------+-------+-----+-----------+--------+------------------+-------+\n",
      "|DISH|ORDERID|STOREID|PRICE|TOTALAMOUNT|QUANTITY|JUSTANOTHERFEATURE|records|\n",
      "+----+-------+-------+-----+-----------+--------+------------------+-------+\n",
      "+----+-------+-------+-----+-----------+--------+------------------+-------+\n",
      "\n"
     ]
    }
   ],
   "source": [
    "biryani_records = records_greater_than_1.filter(records_greater_than_1.DISH == \"Biryani\")\n",
    "biryani_records.show()"
   ]
  },
  {
   "cell_type": "code",
   "execution_count": 29,
   "id": "cbf91bb1",
   "metadata": {
    "scrolled": false
   },
   "outputs": [
    {
     "name": "stderr",
     "output_type": "stream",
     "text": [
      "\r",
      "[Stage 61:=============================>                            (1 + 1) / 2]\r"
     ]
    },
    {
     "name": "stdout",
     "output_type": "stream",
     "text": [
      "+----+-------+-------+-----+-----------+--------+------------------+-------+\n",
      "|DISH|ORDERID|STOREID|PRICE|TOTALAMOUNT|QUANTITY|JUSTANOTHERFEATURE|records|\n",
      "+----+-------+-------+-----+-----------+--------+------------------+-------+\n",
      "+----+-------+-------+-----+-----------+--------+------------------+-------+\n",
      "\n"
     ]
    },
    {
     "name": "stderr",
     "output_type": "stream",
     "text": [
      "\r",
      "[Stage 63:===================================================>    (11 + 1) / 12]\r",
      "\r",
      "                                                                                \r"
     ]
    }
   ],
   "source": [
    "try:\n",
    "    biryani_records = records_greater_than_1.filter(records_greater_than_1.DISH == \"Biryani\")\n",
    "    calculated_biryani_records = biryani_records.withColumn(\"TOTALAMOUNT\", sum(\"TOTALAMOUNT\").over(dish_part)).withColumn(\"QUANTITY\", sum(\"QUANTITY\").over(dish_part)).withColumn(\"JUSTANOTHERFEATURE\",sum(\"JUSTANOTHERFEATURE\").over(dish_part))\n",
    "    calculated_biryani_records.show()\n",
    "except Exception as a:\n",
    "    print(a)"
   ]
  },
  {
   "cell_type": "code",
   "execution_count": 71,
   "id": "aeed702d",
   "metadata": {
    "scrolled": true
   },
   "outputs": [
    {
     "name": "stderr",
     "output_type": "stream",
     "text": [
      "\r",
      "[Stage 182:============================>                            (1 + 1) / 2]\r"
     ]
    },
    {
     "name": "stdout",
     "output_type": "stream",
     "text": [
      "+-----+--------+-------+------+------------------+--------+------------------+-------+\n",
      "| DISH| ORDERID|STOREID| PRICE|       TOTALAMOUNT|QUANTITY|JUSTANOTHERFEATURE|records|\n",
      "+-----+--------+-------+------+------------------+--------+------------------+-------+\n",
      "|Pizza|baacbhid|iiijabi|189.29|61.568000000000005|     1.0|               1.0|      2|\n",
      "|Pizza|baacbhid|iiijabi|189.29|            33.004|     1.0|               1.0|      2|\n",
      "|Pizza|bacbbhid| jgedfj| 94.79|29.526000000000003|     1.0|               1.0|      2|\n",
      "|Pizza|bacbbhid| jgedfj| 94.79|29.526000000000003|     1.0|               1.0|      2|\n",
      "|Pizza|baccbhid| ehedfe| 23.39| 7.918000000000001|    1.82|               1.0|      2|\n",
      "|Pizza|baccbhid| ehedfe| 23.39|4.8100000000000005|    1.11|               1.0|      2|\n",
      "|Pizza|baccbhid| heaefh| 31.79|7.3260000000000005|     1.0|               1.0|      2|\n",
      "|Pizza|baccbhid| heaefh| 31.79|            21.978|     3.0|               3.0|      2|\n",
      "|Pizza|bacdbhid| fcfdff|115.79|            36.926|     1.0|               1.0|      2|\n",
      "|Pizza|bacdbhid| fcfdff|115.79|14.652000000000001|     1.0|               1.0|      2|\n",
      "|Pizza|badibhid| ehedfe| 23.39|1.6280000000000001|    0.37|               1.0|      2|\n",
      "|Pizza|badibhid| ehedfe| 23.39|             8.362|    1.91|               1.0|      2|\n",
      "|Pizza|baecbhid| iaffii| 65.39|            19.166|     1.0|               1.0|      2|\n",
      "|Pizza|baecbhid| iaffii| 65.39|            19.166|     1.0|               1.0|      2|\n",
      "|Pizza|baffbhid| bfhgfb|115.79|            36.926|     1.0|               1.0|      2|\n",
      "|Pizza|baffbhid| bfhgfb|115.79|            73.852|     2.0|               2.0|      2|\n",
      "|Pizza|bafibhid| ehedfe| 23.39|3.8480000000000003|    0.88|               1.0|      2|\n",
      "|Pizza|bafibhid| ehedfe| 23.39|            12.802|    2.94|               1.0|      2|\n",
      "|Pizza| bagbhid| fjcebf| 52.79|            14.726|     1.0|               1.0|      2|\n",
      "|Pizza| bagbhid| fjcebf| 52.79|            14.726|     1.0|               1.0|      2|\n",
      "+-----+--------+-------+------+------------------+--------+------------------+-------+\n",
      "only showing top 20 rows\n",
      "\n"
     ]
    },
    {
     "name": "stderr",
     "output_type": "stream",
     "text": [
      "\r",
      "                                                                                \r"
     ]
    }
   ],
   "source": [
    "biryani_or_pizza_or_dosa_records = records_greater_than_1.filter((records_greater_than_1.DISH == \"Biryani\")|(records_greater_than_1.DISH == \"Pizza\")|(records_greater_than_1.DISH == \"Dosa\"))\n",
    "biryani_or_pizza_or_dosa_records.show()"
   ]
  },
  {
   "cell_type": "code",
   "execution_count": 72,
   "id": "aa0bdd79",
   "metadata": {},
   "outputs": [
    {
     "name": "stderr",
     "output_type": "stream",
     "text": [
      "\r",
      "[Stage 185:============================>                            (1 + 1) / 2]\r"
     ]
    },
    {
     "name": "stdout",
     "output_type": "stream",
     "text": [
      "+-----+-----------+\n",
      "| DISH|count(DISH)|\n",
      "+-----+-----------+\n",
      "| Dosa|        404|\n",
      "|Pizza|      13229|\n",
      "+-----+-----------+\n",
      "\n"
     ]
    },
    {
     "name": "stderr",
     "output_type": "stream",
     "text": [
      "\r",
      "                                                                                \r"
     ]
    }
   ],
   "source": [
    "count_dishes = biryani_or_pizza_or_dosa_records.select('DISH').groupby(col('DISH')).agg(count(col('DISH')))\n",
    "count_dishes.show()"
   ]
  },
  {
   "cell_type": "code",
   "execution_count": 86,
   "id": "b9c51d1a",
   "metadata": {
    "scrolled": true
   },
   "outputs": [
    {
     "name": "stdout",
     "output_type": "stream",
     "text": [
      "+-----------------+\n",
      "|        sum_total|\n",
      "+-----------------+\n",
      "|465602.0059999995|\n",
      "+-----------------+\n",
      "\n"
     ]
    }
   ],
   "source": [
    "sum_total = biryani_or_pizza_or_dosa_records.agg(sum(\"TOTALAMOUNT\").alias(\"sum_total\"))\n",
    "sum_total.show()"
   ]
  },
  {
   "cell_type": "code",
   "execution_count": 105,
   "id": "32f76ee1",
   "metadata": {
    "scrolled": true
   },
   "outputs": [
    {
     "name": "stderr",
     "output_type": "stream",
     "text": [
      "\r",
      "[Stage 243:============================>                            (1 + 1) / 2]\r"
     ]
    },
    {
     "name": "stdout",
     "output_type": "stream",
     "text": [
      "+-----+--------+-------+------+------------------+--------+------------------+-------+\n",
      "| DISH| ORDERID|STOREID| PRICE|       TOTALAMOUNT|QUANTITY|JUSTANOTHERFEATURE|records|\n",
      "+-----+--------+-------+------+------------------+--------+------------------+-------+\n",
      "|Pizza|baacbhid|iiijabi|189.29|61.568000000000005|     1.0|               1.0|      2|\n",
      "|Pizza|baacbhid|iiijabi|189.29|            33.004|     1.0|               1.0|      2|\n",
      "|Pizza|bacbbhid| jgedfj| 94.79|29.526000000000003|     1.0|               1.0|      2|\n",
      "|Pizza|bacbbhid| jgedfj| 94.79|29.526000000000003|     1.0|               1.0|      2|\n",
      "|Pizza|baccbhid| ehedfe| 23.39| 7.918000000000001|    1.82|               1.0|      2|\n",
      "|Pizza|baccbhid| ehedfe| 23.39|4.8100000000000005|    1.11|               1.0|      2|\n",
      "|Pizza|baccbhid| heaefh| 31.79|7.3260000000000005|     1.0|               1.0|      2|\n",
      "|Pizza|baccbhid| heaefh| 31.79|            21.978|     3.0|               3.0|      2|\n",
      "|Pizza|bacdbhid| fcfdff|115.79|            36.926|     1.0|               1.0|      2|\n",
      "|Pizza|bacdbhid| fcfdff|115.79|14.652000000000001|     1.0|               1.0|      2|\n",
      "|Pizza|badibhid| ehedfe| 23.39|1.6280000000000001|    0.37|               1.0|      2|\n",
      "|Pizza|badibhid| ehedfe| 23.39|             8.362|    1.91|               1.0|      2|\n",
      "|Pizza|baecbhid| iaffii| 65.39|            19.166|     1.0|               1.0|      2|\n",
      "|Pizza|baecbhid| iaffii| 65.39|            19.166|     1.0|               1.0|      2|\n",
      "|Pizza|baffbhid| bfhgfb|115.79|            36.926|     1.0|               1.0|      2|\n",
      "|Pizza|baffbhid| bfhgfb|115.79|            73.852|     2.0|               2.0|      2|\n",
      "|Pizza|bafibhid| ehedfe| 23.39|3.8480000000000003|    0.88|               1.0|      2|\n",
      "|Pizza|bafibhid| ehedfe| 23.39|            12.802|    2.94|               1.0|      2|\n",
      "|Pizza| bagbhid| fjcebf| 52.79|            14.726|     1.0|               1.0|      2|\n",
      "|Pizza| bagbhid| fjcebf| 52.79|            14.726|     1.0|               1.0|      2|\n",
      "+-----+--------+-------+------+------------------+--------+------------------+-------+\n",
      "only showing top 20 rows\n",
      "\n"
     ]
    },
    {
     "name": "stderr",
     "output_type": "stream",
     "text": [
      "\r",
      "                                                                                \r"
     ]
    }
   ],
   "source": [
    "records = biryani_or_pizza_or_dosa_records.filter((col(\"TOTALAMOUNT\")>0.0) & ((col(\"DISH\")==\"Dosa\") | (col(\"DISH\")==\"Pizza\")))\n",
    "records.show()"
   ]
  },
  {
   "cell_type": "code",
   "execution_count": 108,
   "id": "aa49decc",
   "metadata": {
    "scrolled": true
   },
   "outputs": [
    {
     "name": "stdout",
     "output_type": "stream",
     "text": [
      "+-----+--------+---------+------------------+------------------+------------------+------------------+\n",
      "| DISH| ORDERID|  STOREID|             PRICE|       TOTALAMOUNT|          QUANTITY|JUSTANOTHERFEATURE|\n",
      "+-----+--------+---------+------------------+------------------+------------------+------------------+\n",
      "|Pizza|dbhjbhid|   cecefc|63.290000000000006|36.852000000000004|               2.0|               2.0|\n",
      "|Pizza|difebhid|   idicfi| 67.49000000000001|            32.634|              1.64|               2.0|\n",
      "|Pizza|eafibhid|   ehedfe|             23.39|            13.616|              3.11|               2.0|\n",
      "|Pizza|hheibhid|   ehedfe|             23.39|            23.754|              5.43|               2.0|\n",
      "|Pizza| baibhid|   gibefg|             31.79|            16.058|2.1900000000000004|               2.0|\n",
      "|Pizza|figcbhid|   hggcfh|             38.09|19.092000000000002|               2.0|               2.0|\n",
      "|Pizza|jaefbhid|   ehedfe|             23.39|            15.392|3.5300000000000002|               2.0|\n",
      "|Pizza|ccgdbhid|   faaeff|63.290000000000006|            43.512|2.3600000000000003|               2.0|\n",
      "|Pizza|ghgabhid|jidedgcbj|136.79000000000002|           132.978|               3.0|               3.0|\n",
      "|Pizza| iejbhid|   feeiif|            101.09|63.492000000000004|               2.0|               2.0|\n",
      "|Pizza|ecgebhid|   ieiefi|             25.49|            20.424|               4.0|               4.0|\n",
      "|Pizza|fdhhbhid|   ficbff|            126.29|121.87800000000001|               3.0|               3.0|\n",
      "|Pizza|igiebhid|     cgfc|            132.59|           128.538|               3.0|               3.0|\n",
      "|Pizza|ecdhbhid|   bjjdfb|              53.0|44.400000000000006|               3.0|               3.0|\n",
      "|Pizza|bbejbhid|   ehedfe|             23.39|            12.284|2.8200000000000003|               2.0|\n",
      "|Pizza|eehfbhid|   ehedfe|             23.39|31.450000000000003|              7.21|               2.0|\n",
      "|Pizza|fjjdbhic|   deceed|            241.79|           243.978|               3.0|               3.0|\n",
      "|Pizza|iahgbhid|   eaeefe|             42.29|13.838000000000001|              1.26|               2.0|\n",
      "|Pizza|bafibhid|   ehedfe|             23.39|             16.65|              3.82|               2.0|\n",
      "|Pizza|ebhcbhid|   iaffii|             65.39|            38.332|               2.0|               2.0|\n",
      "+-----+--------+---------+------------------+------------------+------------------+------------------+\n",
      "only showing top 20 rows\n",
      "\n"
     ]
    }
   ],
   "source": [
    "rec = records.select(\"*\") \\\n",
    ".groupby(col(\"DISH\"),col(\"ORDERID\"),col(\"STOREID\"),col(\"PRICE\")) \\\n",
    ".agg(sum(col(\"TOTALAMOUNT\")).alias(\"TOTALAMOUNT\"),sum(col(\"QUANTITY\")).alias(\"QUANTITY\"), sum(col(\"JUSTANOTHERFEATURE\")).alias(\"JUSTANOTHERFEATURE\"))\n",
    "rec.show()                                                                                                                        "
   ]
  },
  {
   "cell_type": "code",
   "execution_count": 163,
   "id": "40201e90",
   "metadata": {
    "scrolled": true
   },
   "outputs": [
    {
     "name": "stderr",
     "output_type": "stream",
     "text": [
      "                                                                                \r"
     ]
    },
    {
     "data": {
      "text/plain": [
       "0"
      ]
     },
     "execution_count": 163,
     "metadata": {},
     "output_type": "execute_result"
    }
   ],
   "source": [
    "r = rec.filter(col(\"QUANTITY\")==0).count()\n",
    "r"
   ]
  },
  {
   "cell_type": "code",
   "execution_count": null,
   "id": "70f4ec01",
   "metadata": {},
   "outputs": [],
   "source": []
  }
 ],
 "metadata": {
  "kernelspec": {
   "display_name": "Python 3 (ipykernel)",
   "language": "python",
   "name": "python3"
  },
  "language_info": {
   "codemirror_mode": {
    "name": "ipython",
    "version": 3
   },
   "file_extension": ".py",
   "mimetype": "text/x-python",
   "name": "python",
   "nbconvert_exporter": "python",
   "pygments_lexer": "ipython3",
   "version": "3.9.7"
  }
 },
 "nbformat": 4,
 "nbformat_minor": 5
}
