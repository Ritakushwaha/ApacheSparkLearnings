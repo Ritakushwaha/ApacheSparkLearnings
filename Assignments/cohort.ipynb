{
 "cells": [
  {
   "cell_type": "markdown",
   "id": "16007a59",
   "metadata": {},
   "source": [
    "# Cohort Assignment\n",
    "\n",
    "### Write a spark program(python or scala or any other language) to achieve the following:\n",
    "\n",
    "#### 1. Calculate hourly, daily, weekly and monthly averages of aggregated counts of each customer and make this accessible for querying purposes\n",
    " \t\t\t\t\t\t\t\n",
    "#### 2. Calculate Week-on-week cohorts for customers taking rides in that week, an example cohort output is shown as follows.\n"
   ]
  },
  {
   "cell_type": "markdown",
   "id": "56204ee9",
   "metadata": {},
   "source": [
    "## We can get Dataset from the given link\n",
    "\n",
    "##### https://drive.google.com/file/d/1gGDJpGrKTFdy-IKOXxRv5QNuTlJHmp1f/view?usp=sharing"
   ]
  },
  {
   "cell_type": "code",
   "execution_count": 1,
   "id": "a2ad68e2",
   "metadata": {},
   "outputs": [
    {
     "name": "stdout",
     "output_type": "stream",
     "text": [
      "Archive:  DE_Cohorts_Assignment_Data.csv.zip\n",
      "  inflating: DE_Cohorts_Assignment_Data.csv  \n",
      "/home/rita/Documents/Spark/Assignments\n"
     ]
    }
   ],
   "source": [
    "#!/usr/bin/env bash\n",
    "!rm DE_Cohorts_Assignment_Data.csv\n",
    "!unzip DE_Cohorts_Assignment_Data.csv.zip\n",
    "!pwd"
   ]
  },
  {
   "cell_type": "markdown",
   "id": "5865bdac",
   "metadata": {},
   "source": [
    "## Import all relevant packages"
   ]
  },
  {
   "cell_type": "code",
   "execution_count": 2,
   "id": "caf0a74b",
   "metadata": {},
   "outputs": [],
   "source": [
    "from pyspark.sql import SparkSession\n",
    "from pyspark.sql.functions import explode, split, window,substring, col\n",
    "from pyspark.sql.functions import *\n",
    "from datetime import datetime\n",
    "import time"
   ]
  },
  {
   "cell_type": "markdown",
   "id": "1d46d68f",
   "metadata": {},
   "source": [
    "## Create a Spark Session"
   ]
  },
  {
   "cell_type": "code",
   "execution_count": 3,
   "id": "3c1e83cd",
   "metadata": {},
   "outputs": [
    {
     "name": "stderr",
     "output_type": "stream",
     "text": [
      "22/01/25 12:31:16 WARN Utils: Your hostname, EMPID21092 resolves to a loopback address: 127.0.1.1; using 192.168.1.6 instead (on interface wlp3s0)\n",
      "22/01/25 12:31:16 WARN Utils: Set SPARK_LOCAL_IP if you need to bind to another address\n",
      "WARNING: An illegal reflective access operation has occurred\n",
      "WARNING: Illegal reflective access by org.apache.spark.unsafe.Platform (file:/opt/spark/jars/spark-unsafe_2.12-3.2.0.jar) to constructor java.nio.DirectByteBuffer(long,int)\n",
      "WARNING: Please consider reporting this to the maintainers of org.apache.spark.unsafe.Platform\n",
      "WARNING: Use --illegal-access=warn to enable warnings of further illegal reflective access operations\n",
      "WARNING: All illegal access operations will be denied in a future release\n",
      "Using Spark's default log4j profile: org/apache/spark/log4j-defaults.properties\n",
      "Setting default log level to \"WARN\".\n",
      "To adjust logging level use sc.setLogLevel(newLevel). For SparkR, use setLogLevel(newLevel).\n",
      "22/01/25 12:31:17 WARN NativeCodeLoader: Unable to load native-hadoop library for your platform... using builtin-java classes where applicable\n"
     ]
    }
   ],
   "source": [
    "spark = SparkSession.builder.appName(\"Cohort Assignment\").master(\"local[*]\").getOrCreate()"
   ]
  },
  {
   "cell_type": "markdown",
   "id": "bb9332d7",
   "metadata": {},
   "source": [
    "## Read data from the csv file"
   ]
  },
  {
   "cell_type": "code",
   "execution_count": 4,
   "id": "4df60025",
   "metadata": {},
   "outputs": [
    {
     "name": "stderr",
     "output_type": "stream",
     "text": [
      "                                                                                \r"
     ]
    }
   ],
   "source": [
    "df = spark.read.format(\"csv\").options(header='true', inferschema='true', delimiter=',').load(\"/home/rita/Documents/Spark/Assignments/DE_Cohorts_Assignment_Data.csv\")"
   ]
  },
  {
   "cell_type": "markdown",
   "id": "6deddba0",
   "metadata": {},
   "source": [
    "### Data with 2 column 'timestamp' & 'user_id'"
   ]
  },
  {
   "cell_type": "code",
   "execution_count": 30,
   "id": "2520f037",
   "metadata": {},
   "outputs": [
    {
     "name": "stdout",
     "output_type": "stream",
     "text": [
      "+-------------------+-------+\n",
      "|          timestamp|user_id|\n",
      "+-------------------+-------+\n",
      "|2018-04-07 07:07:17|  14626|\n",
      "|2018-04-07 07:32:27|  85490|\n",
      "|2018-04-07 07:36:44|  05408|\n",
      "|2018-04-07 07:38:00|  58940|\n",
      "|2018-04-07 07:39:29|  05408|\n",
      "|2018-04-07 07:43:08|  05408|\n",
      "|2018-04-07 07:43:55|  50266|\n",
      "|2018-04-07 07:52:31|  58940|\n",
      "|2018-04-07 07:52:42|  58940|\n",
      "|2018-04-07 07:53:23|  28126|\n",
      "|2018-04-07 07:55:05|  99251|\n",
      "|2018-04-07 07:55:24|  99251|\n",
      "|2018-04-07 08:00:04|  34808|\n",
      "|2018-04-07 08:00:16|  34808|\n",
      "|2018-04-07 08:03:16|  89714|\n",
      "|2018-04-07 08:03:24|  89714|\n",
      "|2018-04-07 08:07:16|  82060|\n",
      "|2018-04-07 08:08:57|  18815|\n",
      "|2018-04-07 08:11:35|  38288|\n",
      "|2018-04-07 08:17:24|  80401|\n",
      "+-------------------+-------+\n",
      "only showing top 20 rows\n",
      "\n"
     ]
    }
   ],
   "source": [
    "df.show()"
   ]
  },
  {
   "cell_type": "markdown",
   "id": "ab20371c",
   "metadata": {},
   "source": [
    "### Shape of data (no. of rows, no. of columns)"
   ]
  },
  {
   "cell_type": "code",
   "execution_count": 31,
   "id": "28380f6e",
   "metadata": {},
   "outputs": [
    {
     "name": "stdout",
     "output_type": "stream",
     "text": [
      "(8381556, 2)\n"
     ]
    },
    {
     "name": "stderr",
     "output_type": "stream",
     "text": [
      "\r",
      "[Stage 56:====>                                                   (1 + 11) / 12]\r",
      "\r",
      "                                                                                \r"
     ]
    }
   ],
   "source": [
    "print((df.count(), len(df.columns)))"
   ]
  },
  {
   "cell_type": "markdown",
   "id": "0609874b",
   "metadata": {},
   "source": [
    "### Users count per hour"
   ]
  },
  {
   "cell_type": "code",
   "execution_count": 40,
   "id": "816e150d",
   "metadata": {},
   "outputs": [
    {
     "name": "stderr",
     "output_type": "stream",
     "text": [
      "[Stage 77:====>                                                   (1 + 11) / 12]\r"
     ]
    },
    {
     "name": "stdout",
     "output_type": "stream",
     "text": [
      "+----+------+\n",
      "|hour| count|\n",
      "+----+------+\n",
      "|   0| 87920|\n",
      "|   1| 32117|\n",
      "|   2|  8532|\n",
      "|   3|  4066|\n",
      "|   4|  4689|\n",
      "|   5|  9656|\n",
      "|   6| 39227|\n",
      "|   7|166430|\n",
      "|   8|448867|\n",
      "|   9|863465|\n",
      "|  10|848744|\n",
      "|  11|447322|\n",
      "|  12|360131|\n",
      "|  13|349257|\n",
      "|  14|301419|\n",
      "|  15|270961|\n",
      "|  16|313228|\n",
      "|  17|447311|\n",
      "|  18|787922|\n",
      "|  19|930550|\n",
      "+----+------+\n",
      "only showing top 20 rows\n",
      "\n"
     ]
    },
    {
     "name": "stderr",
     "output_type": "stream",
     "text": [
      "\r",
      "                                                                                \r"
     ]
    }
   ],
   "source": [
    "hourly_count = df.groupby(hour(col(\"timestamp\")).alias('hour')).count().orderBy('hour')\n",
    "hourly_count.show()"
   ]
  },
  {
   "cell_type": "code",
   "execution_count": 48,
   "id": "dd4a733d",
   "metadata": {},
   "outputs": [
    {
     "name": "stderr",
     "output_type": "stream",
     "text": [
      "[Stage 95:=================================>                       (7 + 5) / 12]\r"
     ]
    },
    {
     "name": "stdout",
     "output_type": "stream",
     "text": [
      "+----+----------+\n",
      "|hour|avg(count)|\n",
      "+----+----------+\n",
      "|  12|  360131.0|\n",
      "|  22|  342316.0|\n",
      "|   1|   32117.0|\n",
      "|  13|  349257.0|\n",
      "|  16|  313228.0|\n",
      "|   6|   39227.0|\n",
      "|   3|    4066.0|\n",
      "|  20|  669083.0|\n",
      "|   5|    9656.0|\n",
      "|  19|  930550.0|\n",
      "|  15|  270961.0|\n",
      "|   9|  863465.0|\n",
      "|  17|  447311.0|\n",
      "|   4|    4689.0|\n",
      "|   8|  448867.0|\n",
      "|  23|  187113.0|\n",
      "|   7|  166430.0|\n",
      "|  10|  848744.0|\n",
      "|  21|  461230.0|\n",
      "|  11|  447322.0|\n",
      "+----+----------+\n",
      "only showing top 20 rows\n",
      "\n"
     ]
    },
    {
     "name": "stderr",
     "output_type": "stream",
     "text": [
      "\r",
      "                                                                                \r"
     ]
    }
   ],
   "source": [
    "hourly_avg = hourly_count.groupby('hour').agg(avg(col(\"count\")))\n",
    "hourly_avg.show()"
   ]
  },
  {
   "cell_type": "markdown",
   "id": "4c14190c",
   "metadata": {},
   "source": [
    "### Hourly count of each user "
   ]
  },
  {
   "cell_type": "code",
   "execution_count": 42,
   "id": "1c7cf60f",
   "metadata": {},
   "outputs": [
    {
     "name": "stderr",
     "output_type": "stream",
     "text": [
      "[Stage 83:==============>                                          (3 + 9) / 12]\r"
     ]
    },
    {
     "name": "stdout",
     "output_type": "stream",
     "text": [
      "+----+-------+-----+\n",
      "|hour|user_id|count|\n",
      "+----+-------+-----+\n",
      "|   0|  57736|    6|\n",
      "|   0|  11898|   11|\n",
      "|   0|  32325|    7|\n",
      "|   0|  47147|    8|\n",
      "|   0|  97775|   19|\n",
      "|   0|  27178|    1|\n",
      "|   0|  01246|    2|\n",
      "|   0|  39708|    6|\n",
      "|   0|  53656|    2|\n",
      "|   0|  57384|    6|\n",
      "|   0|  86880|    1|\n",
      "|   0|  32014|    2|\n",
      "|   0|  77001|    1|\n",
      "|   0|  80967|    2|\n",
      "|   0|  19673|    2|\n",
      "|   0|  00278|    1|\n",
      "|   0|  43585|    2|\n",
      "|   0|  76993|    5|\n",
      "|   0|  06413|    2|\n",
      "|   0|  62460|   54|\n",
      "+----+-------+-----+\n",
      "only showing top 20 rows\n",
      "\n"
     ]
    },
    {
     "name": "stderr",
     "output_type": "stream",
     "text": [
      "\r",
      "                                                                                \r"
     ]
    }
   ],
   "source": [
    "hourly_user_count = df.groupby(hour(col(\"timestamp\")).alias('hour'),'user_id').count().orderBy('hour')\n",
    "hourly_user_count.show()"
   ]
  },
  {
   "cell_type": "code",
   "execution_count": 41,
   "id": "37fe71ad",
   "metadata": {},
   "outputs": [
    {
     "name": "stderr",
     "output_type": "stream",
     "text": [
      "[Stage 80:=========>                                              (2 + 10) / 12]\r"
     ]
    },
    {
     "name": "stdout",
     "output_type": "stream",
     "text": [
      "+---+------+\n",
      "|day| count|\n",
      "+---+------+\n",
      "| 31|176963|\n",
      "| 28|296030|\n",
      "| 26|260514|\n",
      "| 27|263165|\n",
      "| 12|278631|\n",
      "| 22|289733|\n",
      "|  1|296340|\n",
      "| 13|260829|\n",
      "| 16|238040|\n",
      "|  6|272150|\n",
      "|  3|265798|\n",
      "| 20|289614|\n",
      "|  5|358409|\n",
      "| 19|264761|\n",
      "| 15|274835|\n",
      "|  9|256080|\n",
      "| 17|242458|\n",
      "|  4|315497|\n",
      "|  8|256411|\n",
      "| 23|229617|\n",
      "+---+------+\n",
      "only showing top 20 rows\n",
      "\n"
     ]
    },
    {
     "name": "stderr",
     "output_type": "stream",
     "text": [
      "\r",
      "                                                                                \r"
     ]
    }
   ],
   "source": [
    "daily_count = df.groupby(dayofmonth(col(\"timestamp\")).alias('day')).count()\n",
    "daily_count.show()"
   ]
  },
  {
   "cell_type": "code",
   "execution_count": 49,
   "id": "f69f13da",
   "metadata": {},
   "outputs": [
    {
     "name": "stderr",
     "output_type": "stream",
     "text": [
      "[Stage 98:=========>                                              (2 + 10) / 12]\r"
     ]
    },
    {
     "name": "stdout",
     "output_type": "stream",
     "text": [
      "+---+----------+\n",
      "|day|avg(count)|\n",
      "+---+----------+\n",
      "| 31|  176963.0|\n",
      "| 28|  296030.0|\n",
      "| 26|  260514.0|\n",
      "| 27|  263165.0|\n",
      "| 12|  278631.0|\n",
      "| 22|  289733.0|\n",
      "|  1|  296340.0|\n",
      "| 13|  260829.0|\n",
      "| 16|  238040.0|\n",
      "|  6|  272150.0|\n",
      "|  3|  265798.0|\n",
      "| 20|  289614.0|\n",
      "|  5|  358409.0|\n",
      "| 19|  264761.0|\n",
      "| 15|  274835.0|\n",
      "|  9|  256080.0|\n",
      "| 17|  242458.0|\n",
      "|  4|  315497.0|\n",
      "|  8|  256411.0|\n",
      "| 23|  229617.0|\n",
      "+---+----------+\n",
      "only showing top 20 rows\n",
      "\n"
     ]
    },
    {
     "name": "stderr",
     "output_type": "stream",
     "text": [
      "\r",
      "                                                                                \r"
     ]
    }
   ],
   "source": [
    "daily_avg = daily_count.groupby('day').agg(avg(col(\"count\")))\n",
    "daily_avg.show()"
   ]
  },
  {
   "cell_type": "code",
   "execution_count": 43,
   "id": "93c54af0",
   "metadata": {
    "scrolled": true
   },
   "outputs": [
    {
     "name": "stderr",
     "output_type": "stream",
     "text": [
      "[Stage 86:===================>                                     (4 + 8) / 12]\r"
     ]
    },
    {
     "name": "stdout",
     "output_type": "stream",
     "text": [
      "+---+-------+-----+\n",
      "|day|user_id|count|\n",
      "+---+-------+-----+\n",
      "|  7|  98098|   26|\n",
      "|  7|  33825|   18|\n",
      "|  7|  98699|    2|\n",
      "|  7|  00341|    3|\n",
      "|  7|  64446|   14|\n",
      "|  7|  21277|    4|\n",
      "|  7|  67642|    5|\n",
      "|  7|  67570|   20|\n",
      "|  7|  39253|    2|\n",
      "|  7|  62460|   52|\n",
      "|  7|  93312|    1|\n",
      "|  7|  55075|   15|\n",
      "|  7|  23739|   21|\n",
      "|  7|  35507|    4|\n",
      "|  8|  19825|    7|\n",
      "|  8|  89285|    8|\n",
      "|  8|  27050|   13|\n",
      "|  8|  64132|   30|\n",
      "|  8|  35015|   76|\n",
      "|  8|  63489|    2|\n",
      "+---+-------+-----+\n",
      "only showing top 20 rows\n",
      "\n"
     ]
    },
    {
     "name": "stderr",
     "output_type": "stream",
     "text": [
      "\r",
      "                                                                                \r"
     ]
    }
   ],
   "source": [
    "daily_user_count = df.groupby(dayofmonth(col(\"timestamp\")).alias('day'),'user_id').count()\n",
    "daily_user_count.show()"
   ]
  },
  {
   "cell_type": "code",
   "execution_count": 45,
   "id": "ee43bd69",
   "metadata": {
    "scrolled": true
   },
   "outputs": [
    {
     "name": "stderr",
     "output_type": "stream",
     "text": [
      "[Stage 89:==========================================>              (9 + 3) / 12]\r"
     ]
    },
    {
     "name": "stdout",
     "output_type": "stream",
     "text": [
      "+----+------+\n",
      "|week| count|\n",
      "+----+------+\n",
      "|  26| 60759|\n",
      "|  22| 63352|\n",
      "|  16| 62111|\n",
      "|  20| 56615|\n",
      "|  19| 51375|\n",
      "|  15| 69476|\n",
      "|  17| 55846|\n",
      "|  23| 59813|\n",
      "|  25| 63241|\n",
      "|  24| 60669|\n",
      "|  21| 57284|\n",
      "|  14|596244|\n",
      "|  18| 47554|\n",
      "|  31| 64243|\n",
      "|  34| 97551|\n",
      "|  28| 64492|\n",
      "|  27| 61134|\n",
      "|  35|113572|\n",
      "|  29| 65746|\n",
      "|  32| 74065|\n",
      "+----+------+\n",
      "only showing top 20 rows\n",
      "\n"
     ]
    },
    {
     "name": "stderr",
     "output_type": "stream",
     "text": [
      "\r",
      "                                                                                \r"
     ]
    }
   ],
   "source": [
    "weekly_count = df.groupby(weekofyear(col('timestamp')).alias('week')).count()\n",
    "weekly_count.show()"
   ]
  },
  {
   "cell_type": "code",
   "execution_count": 54,
   "id": "b21c3195",
   "metadata": {},
   "outputs": [
    {
     "name": "stderr",
     "output_type": "stream",
     "text": [
      "[Stage 107:====>                                                  (1 + 11) / 12]\r"
     ]
    },
    {
     "name": "stdout",
     "output_type": "stream",
     "text": [
      "+----+----------+\n",
      "|week|avg(count)|\n",
      "+----+----------+\n",
      "|  26|   60759.0|\n",
      "|  22|   63352.0|\n",
      "|  16|   62111.0|\n",
      "|  20|   56615.0|\n",
      "|  19|   51375.0|\n",
      "|  15|   69476.0|\n",
      "|  17|   55846.0|\n",
      "|  23|   59813.0|\n",
      "|  25|   63241.0|\n",
      "|  24|   60669.0|\n",
      "|  21|   57284.0|\n",
      "|  14|  596244.0|\n",
      "|  18|   47554.0|\n",
      "|  31|   64243.0|\n",
      "|  34|   97551.0|\n",
      "|  28|   64492.0|\n",
      "|  27|   61134.0|\n",
      "|  35|  113572.0|\n",
      "|  29|   65746.0|\n",
      "|  32|   74065.0|\n",
      "+----+----------+\n",
      "only showing top 20 rows\n",
      "\n"
     ]
    },
    {
     "name": "stderr",
     "output_type": "stream",
     "text": [
      "\r",
      "[Stage 107:=======================>                                (5 + 7) / 12]\r",
      "\r",
      "                                                                                \r"
     ]
    }
   ],
   "source": [
    "weekly_avg = weekly_count.groupby('week').agg(avg(col(\"count\")))\n",
    "weekly_avg.show()"
   ]
  },
  {
   "cell_type": "code",
   "execution_count": 46,
   "id": "d58da1a8",
   "metadata": {},
   "outputs": [
    {
     "name": "stderr",
     "output_type": "stream",
     "text": [
      "[Stage 92:====>                                                   (1 + 11) / 12]\r"
     ]
    },
    {
     "name": "stdout",
     "output_type": "stream",
     "text": [
      "+----+-------+-----+\n",
      "|week|user_id|count|\n",
      "+----+-------+-----+\n",
      "|  14|  27783|    3|\n",
      "|  14|  04643|   13|\n",
      "|  14|  73301|    1|\n",
      "|  14|  28358|    1|\n",
      "|  14|  67169|   10|\n",
      "|  14|  26118|   75|\n",
      "|  14|  05757|    2|\n",
      "|  14|  99723|    8|\n",
      "|  14|  07125|    1|\n",
      "|  14|  97131|   30|\n",
      "|  14|  93694|    1|\n",
      "|  14|  24798|   15|\n",
      "|  14|  22527|    3|\n",
      "|  14|  47815|    7|\n",
      "|  14|  98884|    5|\n",
      "|  15|  70020|    3|\n",
      "|  15|  91992|   57|\n",
      "|  15|  19825|   14|\n",
      "|  15|  48479|    2|\n",
      "|  15|  76219|    1|\n",
      "+----+-------+-----+\n",
      "only showing top 20 rows\n",
      "\n"
     ]
    },
    {
     "name": "stderr",
     "output_type": "stream",
     "text": [
      "\r",
      "[Stage 92:===================>                                     (4 + 8) / 12]\r",
      "\r",
      "                                                                                \r"
     ]
    }
   ],
   "source": [
    "weekly_user_count = df.groupby(weekofyear(col('timestamp')).alias('week'),'user_id').count()\n",
    "weekly_user_count.show()"
   ]
  },
  {
   "cell_type": "code",
   "execution_count": 63,
   "id": "55cb1714",
   "metadata": {},
   "outputs": [
    {
     "name": "stderr",
     "output_type": "stream",
     "text": [
      "[Stage 128:=============================================>         (10 + 2) / 12]\r"
     ]
    },
    {
     "name": "stdout",
     "output_type": "stream",
     "text": [
      "+-----+-------+\n",
      "|month|  count|\n",
      "+-----+-------+\n",
      "|    1| 876345|\n",
      "|    2|1293520|\n",
      "|    3|1761390|\n",
      "|    4| 790434|\n",
      "|    5| 246228|\n",
      "|    6| 263027|\n",
      "|    7| 282412|\n",
      "|    8| 389824|\n",
      "|    9| 573085|\n",
      "|   10| 623576|\n",
      "|   11| 610519|\n",
      "|   12| 671196|\n",
      "+-----+-------+\n",
      "\n"
     ]
    },
    {
     "name": "stderr",
     "output_type": "stream",
     "text": [
      "\r",
      "                                                                                \r"
     ]
    }
   ],
   "source": [
    "monthly_count = df.groupby(month(col('timestamp')).alias('month')).count().orderBy('month')\n",
    "monthly_count.show()"
   ]
  },
  {
   "cell_type": "code",
   "execution_count": 58,
   "id": "36cb1944",
   "metadata": {},
   "outputs": [
    {
     "name": "stderr",
     "output_type": "stream",
     "text": [
      "[Stage 116:=========>                                             (2 + 10) / 12]\r"
     ]
    },
    {
     "name": "stdout",
     "output_type": "stream",
     "text": [
      "+-----+----------+\n",
      "|month|avg(count)|\n",
      "+-----+----------+\n",
      "|    1|  876345.0|\n",
      "|    2| 1293520.0|\n",
      "|    3| 1761390.0|\n",
      "|    4|  790434.0|\n",
      "|    5|  246228.0|\n",
      "|    6|  263027.0|\n",
      "|    7|  282412.0|\n",
      "|    8|  389824.0|\n",
      "|    9|  573085.0|\n",
      "|   10|  623576.0|\n",
      "|   11|  610519.0|\n",
      "|   12|  671196.0|\n",
      "+-----+----------+\n",
      "\n"
     ]
    },
    {
     "name": "stderr",
     "output_type": "stream",
     "text": [
      "\r",
      "                                                                                \r"
     ]
    }
   ],
   "source": [
    "monthly_avg = monthly_count.groupby('month').agg(avg(col('count'))).orderBy('month')\n",
    "monthly_avg.show()"
   ]
  },
  {
   "cell_type": "code",
   "execution_count": 60,
   "id": "b4b598eb",
   "metadata": {},
   "outputs": [
    {
     "name": "stderr",
     "output_type": "stream",
     "text": [
      "[Stage 122:====>                                                  (1 + 11) / 12]\r"
     ]
    },
    {
     "name": "stdout",
     "output_type": "stream",
     "text": [
      "+-----+-------+-----+\n",
      "|month|user_id|count|\n",
      "+-----+-------+-----+\n",
      "|    4|  22868|   22|\n",
      "|    4|  00698|    5|\n",
      "|    4|  62234|   11|\n",
      "|    4|  66804|   20|\n",
      "|    4|  34467|   60|\n",
      "|    4|  85144|   27|\n",
      "|    4|  06110|   11|\n",
      "|    4|  63444|    5|\n",
      "|    4|  55826|    1|\n",
      "|    4|  61000|  154|\n",
      "|    4|  14508|   59|\n",
      "|    4|  45868|    4|\n",
      "|    4|  09569|   11|\n",
      "|    4|  65064|   88|\n",
      "|    4|  68322|    4|\n",
      "|    4|  35605|    4|\n",
      "|    4|  00029|    3|\n",
      "|    4|  82228|    1|\n",
      "|    4|  27517|  175|\n",
      "|    4|  26082|    1|\n",
      "+-----+-------+-----+\n",
      "only showing top 20 rows\n",
      "\n"
     ]
    },
    {
     "name": "stderr",
     "output_type": "stream",
     "text": [
      "\r",
      "                                                                                \r"
     ]
    }
   ],
   "source": [
    "monthly_count = df.groupby(month(col('timestamp')).alias('month'),'user_id').count()\n",
    "monthly_count.show()"
   ]
  },
  {
   "cell_type": "code",
   "execution_count": 61,
   "id": "1cc2c8db",
   "metadata": {},
   "outputs": [
    {
     "name": "stderr",
     "output_type": "stream",
     "text": [
      "\r",
      "[Stage 125:>                                                      (0 + 12) / 12]\r"
     ]
    },
    {
     "name": "stdout",
     "output_type": "stream",
     "text": [
      "+----+-------+\n",
      "|year|  count|\n",
      "+----+-------+\n",
      "|2018|3869148|\n",
      "|2019|4512408|\n",
      "+----+-------+\n",
      "\n"
     ]
    },
    {
     "name": "stderr",
     "output_type": "stream",
     "text": [
      "\r",
      "[Stage 125:====>                                                  (1 + 11) / 12]\r",
      "\r",
      "                                                                                \r"
     ]
    }
   ],
   "source": [
    "yearly_count = df.groupby(year(col('timestamp')).alias('year')).count().orderBy('year')\n",
    "yearly_count.show()"
   ]
  },
  {
   "cell_type": "code",
   "execution_count": 64,
   "id": "90fd4f38",
   "metadata": {},
   "outputs": [
    {
     "name": "stderr",
     "output_type": "stream",
     "text": [
      "[Stage 131:=========>                                             (2 + 10) / 12]\r"
     ]
    },
    {
     "name": "stdout",
     "output_type": "stream",
     "text": [
      "+----+-------+-----+\n",
      "|year|user_id|count|\n",
      "+----+-------+-----+\n",
      "|2018|  23844|  100|\n",
      "|2018|  08096|   63|\n",
      "|2018|  85257|   51|\n",
      "|2018|  99459|    6|\n",
      "|2018|  58098|   88|\n",
      "|2018|  83151|  337|\n",
      "|2018|  32434|   88|\n",
      "|2018|  26482|  169|\n",
      "|2018|  69357|   45|\n",
      "|2018|  20127|   82|\n",
      "|2018|  97283|   89|\n",
      "|2018|  58418|   30|\n",
      "|2018|  98878|   31|\n",
      "|2018|  06736|   54|\n",
      "|2018|  70103|   17|\n",
      "|2018|  64297|  150|\n",
      "|2018|  80246|   47|\n",
      "|2018|  61307|   74|\n",
      "|2018|  48690|  137|\n",
      "|2018|  73963|  300|\n",
      "+----+-------+-----+\n",
      "only showing top 20 rows\n",
      "\n"
     ]
    },
    {
     "name": "stderr",
     "output_type": "stream",
     "text": [
      "\r",
      "                                                                                \r"
     ]
    }
   ],
   "source": [
    "yearly_count = df.groupby(year(col('timestamp')).alias('year'),'user_id').count().orderBy('year')\n",
    "yearly_count.show()"
   ]
  },
  {
   "cell_type": "code",
   "execution_count": null,
   "id": "0316d5f8",
   "metadata": {},
   "outputs": [],
   "source": []
  }
 ],
 "metadata": {
  "kernelspec": {
   "display_name": "Python 3 (ipykernel)",
   "language": "python",
   "name": "python3"
  },
  "language_info": {
   "codemirror_mode": {
    "name": "ipython",
    "version": 3
   },
   "file_extension": ".py",
   "mimetype": "text/x-python",
   "name": "python",
   "nbconvert_exporter": "python",
   "pygments_lexer": "ipython3",
   "version": "3.9.7"
  }
 },
 "nbformat": 4,
 "nbformat_minor": 5
}
